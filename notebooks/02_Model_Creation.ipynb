{
 "cells": [
  {
   "cell_type": "code",
   "execution_count": 1,
   "id": "caae3a11",
   "metadata": {},
   "outputs": [],
   "source": [
    "# This notebook is run via kaggle T4 GPUs"
   ]
  },
  {
   "cell_type": "markdown",
   "id": "b997135d",
   "metadata": {
    "papermill": {
     "duration": 0.004839,
     "end_time": "2025-03-09T11:43:25.206072",
     "exception": false,
     "start_time": "2025-03-09T11:43:25.201233",
     "status": "completed"
    },
    "tags": []
   },
   "source": [
    "# Importing Libraries"
   ]
  },
  {
   "cell_type": "code",
   "execution_count": 1,
   "id": "3dcb9eb6",
   "metadata": {
    "execution": {
     "iopub.execute_input": "2025-03-09T11:43:25.215364Z",
     "iopub.status.busy": "2025-03-09T11:43:25.215081Z",
     "iopub.status.idle": "2025-03-09T11:43:38.498021Z",
     "shell.execute_reply": "2025-03-09T11:43:38.497318Z"
    },
    "papermill": {
     "duration": 13.289218,
     "end_time": "2025-03-09T11:43:38.499569",
     "exception": false,
     "start_time": "2025-03-09T11:43:25.210351",
     "status": "completed"
    },
    "tags": []
   },
   "outputs": [],
   "source": [
    "import pandas as pd\n",
    "import numpy as np\n",
    "import re\n",
    "import tensorflow as tf\n",
    "import matplotlib.pyplot as plt\n",
    "import seaborn as sns\n",
    "from sklearn.model_selection import train_test_split\n",
    "from sklearn.metrics import precision_recall_fscore_support, confusion_matrix, accuracy_score\n",
    "from tensorflow.keras.preprocessing.text import Tokenizer\n",
    "from tensorflow.keras.preprocessing.sequence import pad_sequences\n",
    "from tensorflow.keras.models import Sequential\n",
    "from tensorflow.keras.layers import Embedding, LSTM, Dense, Dropout\n",
    "from tensorflow.keras.optimizers import Adam\n",
    "from tensorflow.keras.callbacks import EarlyStopping\n",
    "import pickle"
   ]
  },
  {
   "cell_type": "markdown",
   "id": "1f72f147",
   "metadata": {
    "papermill": {
     "duration": 0.004218,
     "end_time": "2025-03-09T11:43:38.508515",
     "exception": false,
     "start_time": "2025-03-09T11:43:38.504297",
     "status": "completed"
    },
    "tags": []
   },
   "source": [
    "# Enable GPUs"
   ]
  },
  {
   "cell_type": "code",
   "execution_count": 2,
   "id": "4cc26390",
   "metadata": {
    "execution": {
     "iopub.execute_input": "2025-03-09T11:43:38.517765Z",
     "iopub.status.busy": "2025-03-09T11:43:38.517348Z",
     "iopub.status.idle": "2025-03-09T11:43:39.224746Z",
     "shell.execute_reply": "2025-03-09T11:43:39.223921Z"
    },
    "papermill": {
     "duration": 0.713441,
     "end_time": "2025-03-09T11:43:39.226088",
     "exception": false,
     "start_time": "2025-03-09T11:43:38.512647",
     "status": "completed"
    },
    "tags": []
   },
   "outputs": [
    {
     "name": "stdout",
     "output_type": "stream",
     "text": [
      "[PhysicalDevice(name='/physical_device:GPU:0', device_type='GPU'), PhysicalDevice(name='/physical_device:GPU:1', device_type='GPU')]\n"
     ]
    }
   ],
   "source": [
    "gpus = tf.config.experimental.list_physical_devices('GPU')\n",
    "if gpus:\n",
    "    print(gpus)\n",
    "    try:\n",
    "        for gpu in gpus:\n",
    "            tf.config.experimental.set_memory_growth(gpu, True)\n",
    "    except RuntimeError as e:\n",
    "        print(e)\n",
    "else:\n",
    "    print(\"No GPU found, using CPU.\")"
   ]
  },
  {
   "cell_type": "markdown",
   "id": "3e753d3c",
   "metadata": {
    "papermill": {
     "duration": 0.00413,
     "end_time": "2025-03-09T11:43:39.234889",
     "exception": false,
     "start_time": "2025-03-09T11:43:39.230759",
     "status": "completed"
    },
    "tags": []
   },
   "source": [
    "# Loading Dataset"
   ]
  },
  {
   "cell_type": "code",
   "execution_count": null,
   "id": "228191ea",
   "metadata": {
    "execution": {
     "iopub.execute_input": "2025-03-09T11:43:39.244290Z",
     "iopub.status.busy": "2025-03-09T11:43:39.244057Z",
     "iopub.status.idle": "2025-03-09T11:43:44.028026Z",
     "shell.execute_reply": "2025-03-09T11:43:44.027132Z"
    },
    "papermill": {
     "duration": 4.790157,
     "end_time": "2025-03-09T11:43:44.029271",
     "exception": false,
     "start_time": "2025-03-09T11:43:39.239114",
     "status": "completed"
    },
    "tags": []
   },
   "outputs": [
    {
     "data": {
      "text/html": [
       "<div>\n",
       "<style scoped>\n",
       "    .dataframe tbody tr th:only-of-type {\n",
       "        vertical-align: middle;\n",
       "    }\n",
       "\n",
       "    .dataframe tbody tr th {\n",
       "        vertical-align: top;\n",
       "    }\n",
       "\n",
       "    .dataframe thead th {\n",
       "        text-align: right;\n",
       "    }\n",
       "</style>\n",
       "<table border=\"1\" class=\"dataframe\">\n",
       "  <thead>\n",
       "    <tr style=\"text-align: right;\">\n",
       "      <th></th>\n",
       "      <th>title</th>\n",
       "      <th>text</th>\n",
       "      <th>unreliable</th>\n",
       "      <th>author</th>\n",
       "    </tr>\n",
       "  </thead>\n",
       "  <tbody>\n",
       "    <tr>\n",
       "      <th>0</th>\n",
       "      <td>Donald Trump Sends Out Embarrassing New Year’...</td>\n",
       "      <td>Donald Trump just couldn t wish all Americans ...</td>\n",
       "      <td>1</td>\n",
       "      <td>Unknown</td>\n",
       "    </tr>\n",
       "    <tr>\n",
       "      <th>1</th>\n",
       "      <td>Drunk Bragging Trump Staffer Started Russian ...</td>\n",
       "      <td>House Intelligence Committee Chairman Devin Nu...</td>\n",
       "      <td>1</td>\n",
       "      <td>Unknown</td>\n",
       "    </tr>\n",
       "    <tr>\n",
       "      <th>2</th>\n",
       "      <td>Sheriff David Clarke Becomes An Internet Joke...</td>\n",
       "      <td>On Friday, it was revealed that former Milwauk...</td>\n",
       "      <td>1</td>\n",
       "      <td>Unknown</td>\n",
       "    </tr>\n",
       "    <tr>\n",
       "      <th>3</th>\n",
       "      <td>Trump Is So Obsessed He Even Has Obama’s Name...</td>\n",
       "      <td>On Christmas day, Donald Trump announced that ...</td>\n",
       "      <td>1</td>\n",
       "      <td>Unknown</td>\n",
       "    </tr>\n",
       "    <tr>\n",
       "      <th>4</th>\n",
       "      <td>Pope Francis Just Called Out Donald Trump Dur...</td>\n",
       "      <td>Pope Francis used his annual Christmas Day mes...</td>\n",
       "      <td>1</td>\n",
       "      <td>Unknown</td>\n",
       "    </tr>\n",
       "  </tbody>\n",
       "</table>\n",
       "</div>"
      ],
      "text/plain": [
       "                                               title  \\\n",
       "0   Donald Trump Sends Out Embarrassing New Year’...   \n",
       "1   Drunk Bragging Trump Staffer Started Russian ...   \n",
       "2   Sheriff David Clarke Becomes An Internet Joke...   \n",
       "3   Trump Is So Obsessed He Even Has Obama’s Name...   \n",
       "4   Pope Francis Just Called Out Donald Trump Dur...   \n",
       "\n",
       "                                                text  unreliable   author  \n",
       "0  Donald Trump just couldn t wish all Americans ...           1  Unknown  \n",
       "1  House Intelligence Committee Chairman Devin Nu...           1  Unknown  \n",
       "2  On Friday, it was revealed that former Milwauk...           1  Unknown  \n",
       "3  On Christmas day, Donald Trump announced that ...           1  Unknown  \n",
       "4  Pope Francis used his annual Christmas Day mes...           1  Unknown  "
      ]
     },
     "execution_count": 3,
     "metadata": {},
     "output_type": "execute_result"
    }
   ],
   "source": [
    "df = pd.read_csv(\"../dataset/processed/final_datasets.csv\")\n",
    "df.head()"
   ]
  },
  {
   "cell_type": "markdown",
   "id": "77f7f5b9",
   "metadata": {
    "papermill": {
     "duration": 0.005133,
     "end_time": "2025-03-09T11:43:44.039198",
     "exception": false,
     "start_time": "2025-03-09T11:43:44.034065",
     "status": "completed"
    },
    "tags": []
   },
   "source": [
    "# Pre-processsing"
   ]
  },
  {
   "cell_type": "code",
   "execution_count": 4,
   "id": "3b3815b0",
   "metadata": {
    "execution": {
     "iopub.execute_input": "2025-03-09T11:43:44.048935Z",
     "iopub.status.busy": "2025-03-09T11:43:44.048677Z",
     "iopub.status.idle": "2025-03-09T11:43:44.066959Z",
     "shell.execute_reply": "2025-03-09T11:43:44.066266Z"
    },
    "papermill": {
     "duration": 0.024404,
     "end_time": "2025-03-09T11:43:44.068223",
     "exception": false,
     "start_time": "2025-03-09T11:43:44.043819",
     "status": "completed"
    },
    "tags": []
   },
   "outputs": [
    {
     "data": {
      "text/plain": [
       "title          558\n",
       "text            40\n",
       "unreliable       0\n",
       "author        1957\n",
       "dtype: int64"
      ]
     },
     "execution_count": 4,
     "metadata": {},
     "output_type": "execute_result"
    }
   ],
   "source": [
    "df.isna().sum()"
   ]
  },
  {
   "cell_type": "code",
   "execution_count": 5,
   "id": "3b98540d",
   "metadata": {
    "execution": {
     "iopub.execute_input": "2025-03-09T11:43:44.077718Z",
     "iopub.status.busy": "2025-03-09T11:43:44.077511Z",
     "iopub.status.idle": "2025-03-09T11:43:44.102525Z",
     "shell.execute_reply": "2025-03-09T11:43:44.101933Z"
    },
    "papermill": {
     "duration": 0.031136,
     "end_time": "2025-03-09T11:43:44.103786",
     "exception": false,
     "start_time": "2025-03-09T11:43:44.072650",
     "status": "completed"
    },
    "tags": []
   },
   "outputs": [],
   "source": [
    "df.fillna({\"text\":\"\", \"title\":\"\", \"author\":\"Unknown\"}, inplace=True)"
   ]
  },
  {
   "cell_type": "code",
   "execution_count": 6,
   "id": "4d287896",
   "metadata": {
    "execution": {
     "iopub.execute_input": "2025-03-09T11:43:44.113386Z",
     "iopub.status.busy": "2025-03-09T11:43:44.113185Z",
     "iopub.status.idle": "2025-03-09T11:43:44.127592Z",
     "shell.execute_reply": "2025-03-09T11:43:44.126950Z"
    },
    "papermill": {
     "duration": 0.02048,
     "end_time": "2025-03-09T11:43:44.128801",
     "exception": false,
     "start_time": "2025-03-09T11:43:44.108321",
     "status": "completed"
    },
    "tags": []
   },
   "outputs": [
    {
     "data": {
      "text/plain": [
       "title         0\n",
       "text          0\n",
       "unreliable    0\n",
       "author        0\n",
       "dtype: int64"
      ]
     },
     "execution_count": 6,
     "metadata": {},
     "output_type": "execute_result"
    }
   ],
   "source": [
    "df.isna().sum()"
   ]
  },
  {
   "cell_type": "code",
   "execution_count": 7,
   "id": "8238d2fe",
   "metadata": {
    "execution": {
     "iopub.execute_input": "2025-03-09T11:43:44.139375Z",
     "iopub.status.busy": "2025-03-09T11:43:44.139176Z",
     "iopub.status.idle": "2025-03-09T11:43:44.505318Z",
     "shell.execute_reply": "2025-03-09T11:43:44.504598Z"
    },
    "papermill": {
     "duration": 0.373163,
     "end_time": "2025-03-09T11:43:44.506958",
     "exception": false,
     "start_time": "2025-03-09T11:43:44.133795",
     "status": "completed"
    },
    "tags": []
   },
   "outputs": [],
   "source": [
    "# Combine title, author, and text\n",
    "df[\"content\"] = df[\"title\"] + \" \" + df[\"author\"] + \" \" + df[\"text\"]"
   ]
  },
  {
   "cell_type": "code",
   "execution_count": 8,
   "id": "d1ed3ff8",
   "metadata": {
    "execution": {
     "iopub.execute_input": "2025-03-09T11:43:44.518539Z",
     "iopub.status.busy": "2025-03-09T11:43:44.518299Z",
     "iopub.status.idle": "2025-03-09T11:44:08.708669Z",
     "shell.execute_reply": "2025-03-09T11:44:08.707624Z"
    },
    "papermill": {
     "duration": 24.198097,
     "end_time": "2025-03-09T11:44:08.710752",
     "exception": false,
     "start_time": "2025-03-09T11:43:44.512655",
     "status": "completed"
    },
    "tags": []
   },
   "outputs": [
    {
     "data": {
      "text/html": [
       "<div>\n",
       "<style scoped>\n",
       "    .dataframe tbody tr th:only-of-type {\n",
       "        vertical-align: middle;\n",
       "    }\n",
       "\n",
       "    .dataframe tbody tr th {\n",
       "        vertical-align: top;\n",
       "    }\n",
       "\n",
       "    .dataframe thead th {\n",
       "        text-align: right;\n",
       "    }\n",
       "</style>\n",
       "<table border=\"1\" class=\"dataframe\">\n",
       "  <thead>\n",
       "    <tr style=\"text-align: right;\">\n",
       "      <th></th>\n",
       "      <th>title</th>\n",
       "      <th>text</th>\n",
       "      <th>unreliable</th>\n",
       "      <th>author</th>\n",
       "      <th>content</th>\n",
       "    </tr>\n",
       "  </thead>\n",
       "  <tbody>\n",
       "    <tr>\n",
       "      <th>0</th>\n",
       "      <td>Donald Trump Sends Out Embarrassing New Year’...</td>\n",
       "      <td>Donald Trump just couldn t wish all Americans ...</td>\n",
       "      <td>1</td>\n",
       "      <td>Unknown</td>\n",
       "      <td>donald trump sends out embarrassing new year s...</td>\n",
       "    </tr>\n",
       "    <tr>\n",
       "      <th>1</th>\n",
       "      <td>Drunk Bragging Trump Staffer Started Russian ...</td>\n",
       "      <td>House Intelligence Committee Chairman Devin Nu...</td>\n",
       "      <td>1</td>\n",
       "      <td>Unknown</td>\n",
       "      <td>drunk bragging trump staffer started russian c...</td>\n",
       "    </tr>\n",
       "    <tr>\n",
       "      <th>2</th>\n",
       "      <td>Sheriff David Clarke Becomes An Internet Joke...</td>\n",
       "      <td>On Friday, it was revealed that former Milwauk...</td>\n",
       "      <td>1</td>\n",
       "      <td>Unknown</td>\n",
       "      <td>sheriff david clarke becomes an internet joke ...</td>\n",
       "    </tr>\n",
       "    <tr>\n",
       "      <th>3</th>\n",
       "      <td>Trump Is So Obsessed He Even Has Obama’s Name...</td>\n",
       "      <td>On Christmas day, Donald Trump announced that ...</td>\n",
       "      <td>1</td>\n",
       "      <td>Unknown</td>\n",
       "      <td>trump is so obsessed he even has obama s name ...</td>\n",
       "    </tr>\n",
       "    <tr>\n",
       "      <th>4</th>\n",
       "      <td>Pope Francis Just Called Out Donald Trump Dur...</td>\n",
       "      <td>Pope Francis used his annual Christmas Day mes...</td>\n",
       "      <td>1</td>\n",
       "      <td>Unknown</td>\n",
       "      <td>pope francis just called out donald trump duri...</td>\n",
       "    </tr>\n",
       "  </tbody>\n",
       "</table>\n",
       "</div>"
      ],
      "text/plain": [
       "                                               title  \\\n",
       "0   Donald Trump Sends Out Embarrassing New Year’...   \n",
       "1   Drunk Bragging Trump Staffer Started Russian ...   \n",
       "2   Sheriff David Clarke Becomes An Internet Joke...   \n",
       "3   Trump Is So Obsessed He Even Has Obama’s Name...   \n",
       "4   Pope Francis Just Called Out Donald Trump Dur...   \n",
       "\n",
       "                                                text  unreliable   author  \\\n",
       "0  Donald Trump just couldn t wish all Americans ...           1  Unknown   \n",
       "1  House Intelligence Committee Chairman Devin Nu...           1  Unknown   \n",
       "2  On Friday, it was revealed that former Milwauk...           1  Unknown   \n",
       "3  On Christmas day, Donald Trump announced that ...           1  Unknown   \n",
       "4  Pope Francis used his annual Christmas Day mes...           1  Unknown   \n",
       "\n",
       "                                             content  \n",
       "0  donald trump sends out embarrassing new year s...  \n",
       "1  drunk bragging trump staffer started russian c...  \n",
       "2  sheriff david clarke becomes an internet joke ...  \n",
       "3  trump is so obsessed he even has obama s name ...  \n",
       "4  pope francis just called out donald trump duri...  "
      ]
     },
     "execution_count": 8,
     "metadata": {},
     "output_type": "execute_result"
    }
   ],
   "source": [
    "def clean_text(text):\n",
    "    text = re.sub(r\"\\W\", \" \", text)  # Remove special chars\n",
    "    text = re.sub(r\"\\d\", \" \", text)  # Remove numbers\n",
    "    text = re.sub(r\"\\s+\", \" \", text).strip()  # Remove extra spaces\n",
    "    return text.lower()\n",
    "\n",
    "df[\"content\"] = df[\"content\"].apply(clean_text)\n",
    "df.head()"
   ]
  },
  {
   "cell_type": "code",
   "execution_count": 9,
   "id": "bf5f9499",
   "metadata": {
    "execution": {
     "iopub.execute_input": "2025-03-09T11:44:08.730427Z",
     "iopub.status.busy": "2025-03-09T11:44:08.730047Z",
     "iopub.status.idle": "2025-03-09T11:44:28.641639Z",
     "shell.execute_reply": "2025-03-09T11:44:28.640727Z"
    },
    "papermill": {
     "duration": 19.922971,
     "end_time": "2025-03-09T11:44:28.643426",
     "exception": false,
     "start_time": "2025-03-09T11:44:08.720455",
     "status": "completed"
    },
    "tags": []
   },
   "outputs": [],
   "source": [
    "# Tokenization\n",
    "vocab_size = 160_000\n",
    "max_length = 500\n",
    "tokenizer = Tokenizer(num_words=vocab_size, oov_token=\"<OOV>\")\n",
    "tokenizer.fit_on_texts(df[\"content\"])"
   ]
  },
  {
   "cell_type": "code",
   "execution_count": 10,
   "id": "0ee4867f",
   "metadata": {
    "execution": {
     "iopub.execute_input": "2025-03-09T11:44:28.654441Z",
     "iopub.status.busy": "2025-03-09T11:44:28.654191Z",
     "iopub.status.idle": "2025-03-09T11:44:43.775693Z",
     "shell.execute_reply": "2025-03-09T11:44:43.774679Z"
    },
    "papermill": {
     "duration": 15.128469,
     "end_time": "2025-03-09T11:44:43.777308",
     "exception": false,
     "start_time": "2025-03-09T11:44:28.648839",
     "status": "completed"
    },
    "tags": []
   },
   "outputs": [],
   "source": [
    "# Convert text to sequences\n",
    "sequences = tokenizer.texts_to_sequences(df[\"content\"])\n",
    "padded_sequences = pad_sequences(sequences, maxlen=max_length, padding=\"post\", truncating=\"post\")"
   ]
  },
  {
   "cell_type": "code",
   "execution_count": 11,
   "id": "1a1035af",
   "metadata": {
    "execution": {
     "iopub.execute_input": "2025-03-09T11:44:43.789107Z",
     "iopub.status.busy": "2025-03-09T11:44:43.788832Z",
     "iopub.status.idle": "2025-03-09T11:44:43.792393Z",
     "shell.execute_reply": "2025-03-09T11:44:43.791735Z"
    },
    "papermill": {
     "duration": 0.010787,
     "end_time": "2025-03-09T11:44:43.793631",
     "exception": false,
     "start_time": "2025-03-09T11:44:43.782844",
     "status": "completed"
    },
    "tags": []
   },
   "outputs": [],
   "source": [
    "y = df[\"unreliable\"]"
   ]
  },
  {
   "cell_type": "code",
   "execution_count": 12,
   "id": "11586b53",
   "metadata": {
    "execution": {
     "iopub.execute_input": "2025-03-09T11:44:43.804033Z",
     "iopub.status.busy": "2025-03-09T11:44:43.803788Z",
     "iopub.status.idle": "2025-03-09T11:44:43.865865Z",
     "shell.execute_reply": "2025-03-09T11:44:43.865135Z"
    },
    "papermill": {
     "duration": 0.068926,
     "end_time": "2025-03-09T11:44:43.867423",
     "exception": false,
     "start_time": "2025-03-09T11:44:43.798497",
     "status": "completed"
    },
    "tags": []
   },
   "outputs": [],
   "source": [
    "# Train-validation-test split\n",
    "X_train, X_temp, y_train, y_temp = train_test_split(padded_sequences, y, test_size=0.1, random_state=42)\n",
    "X_val, X_test, y_val, y_test = train_test_split(X_temp, y_temp, test_size=0.5, random_state=42)"
   ]
  },
  {
   "cell_type": "markdown",
   "id": "ca2691a2",
   "metadata": {
    "papermill": {
     "duration": 0.004744,
     "end_time": "2025-03-09T11:44:43.877416",
     "exception": false,
     "start_time": "2025-03-09T11:44:43.872672",
     "status": "completed"
    },
    "tags": []
   },
   "source": [
    "# Model Building"
   ]
  },
  {
   "cell_type": "code",
   "execution_count": 13,
   "id": "8320f049",
   "metadata": {
    "execution": {
     "iopub.execute_input": "2025-03-09T11:44:43.887610Z",
     "iopub.status.busy": "2025-03-09T11:44:43.887392Z",
     "iopub.status.idle": "2025-03-09T11:44:44.195432Z",
     "shell.execute_reply": "2025-03-09T11:44:44.194660Z"
    },
    "papermill": {
     "duration": 0.314559,
     "end_time": "2025-03-09T11:44:44.196704",
     "exception": false,
     "start_time": "2025-03-09T11:44:43.882145",
     "status": "completed"
    },
    "tags": []
   },
   "outputs": [],
   "source": [
    "# Build LSTM Model\n",
    "embedding_dim = 300\n",
    "hidden_dim = 128\n",
    "\n",
    "model = Sequential([\n",
    "    Embedding(input_dim=vocab_size, output_dim=embedding_dim),\n",
    "    LSTM(hidden_dim, return_sequences=True),\n",
    "    Dropout(0.3),\n",
    "    LSTM(hidden_dim),\n",
    "    Dropout(0.3),\n",
    "    Dense(64, activation=\"relu\"),\n",
    "    Dense(1, activation=\"sigmoid\")\n",
    "])"
   ]
  },
  {
   "cell_type": "code",
   "execution_count": 14,
   "id": "1c0f1093",
   "metadata": {
    "execution": {
     "iopub.execute_input": "2025-03-09T11:44:44.208032Z",
     "iopub.status.busy": "2025-03-09T11:44:44.207730Z",
     "iopub.status.idle": "2025-03-09T11:44:44.224167Z",
     "shell.execute_reply": "2025-03-09T11:44:44.223562Z"
    },
    "papermill": {
     "duration": 0.023518,
     "end_time": "2025-03-09T11:44:44.225358",
     "exception": false,
     "start_time": "2025-03-09T11:44:44.201840",
     "status": "completed"
    },
    "tags": []
   },
   "outputs": [],
   "source": [
    "model.compile(optimizer=Adam(learning_rate=0.0025), loss=\"binary_crossentropy\", metrics=[\"accuracy\"])\n",
    "early_stopping = EarlyStopping(monitor='val_loss', patience=7, restore_best_weights=True)"
   ]
  },
  {
   "cell_type": "code",
   "execution_count": 15,
   "id": "7fa9e5c4",
   "metadata": {
    "execution": {
     "iopub.execute_input": "2025-03-09T11:44:44.235425Z",
     "iopub.status.busy": "2025-03-09T11:44:44.235222Z",
     "iopub.status.idle": "2025-03-09T12:11:43.456832Z",
     "shell.execute_reply": "2025-03-09T12:11:43.456123Z"
    },
    "papermill": {
     "duration": 1619.228237,
     "end_time": "2025-03-09T12:11:43.458347",
     "exception": false,
     "start_time": "2025-03-09T11:44:44.230110",
     "status": "completed"
    },
    "tags": []
   },
   "outputs": [
    {
     "name": "stdout",
     "output_type": "stream",
     "text": [
      "Epoch 1/50\n",
      "\u001b[1m1479/1479\u001b[0m \u001b[32m━━━━━━━━━━━━━━━━━━━━\u001b[0m\u001b[37m\u001b[0m \u001b[1m107s\u001b[0m 66ms/step - accuracy: 0.5826 - loss: 0.6623 - val_accuracy: 0.8618 - val_loss: 0.5118\n",
      "Epoch 2/50\n",
      "\u001b[1m1479/1479\u001b[0m \u001b[32m━━━━━━━━━━━━━━━━━━━━\u001b[0m\u001b[37m\u001b[0m \u001b[1m101s\u001b[0m 68ms/step - accuracy: 0.9368 - loss: 0.1785 - val_accuracy: 0.9799 - val_loss: 0.0597\n",
      "Epoch 3/50\n",
      "\u001b[1m1479/1479\u001b[0m \u001b[32m━━━━━━━━━━━━━━━━━━━━\u001b[0m\u001b[37m\u001b[0m \u001b[1m101s\u001b[0m 68ms/step - accuracy: 0.9908 - loss: 0.0320 - val_accuracy: 0.9826 - val_loss: 0.0532\n",
      "Epoch 4/50\n",
      "\u001b[1m1479/1479\u001b[0m \u001b[32m━━━━━━━━━━━━━━━━━━━━\u001b[0m\u001b[37m\u001b[0m \u001b[1m101s\u001b[0m 68ms/step - accuracy: 0.9957 - loss: 0.0137 - val_accuracy: 0.9823 - val_loss: 0.0628\n",
      "Epoch 5/50\n",
      "\u001b[1m1479/1479\u001b[0m \u001b[32m━━━━━━━━━━━━━━━━━━━━\u001b[0m\u001b[37m\u001b[0m \u001b[1m101s\u001b[0m 68ms/step - accuracy: 0.9971 - loss: 0.0089 - val_accuracy: 0.9799 - val_loss: 0.0764\n",
      "Epoch 6/50\n",
      "\u001b[1m1479/1479\u001b[0m \u001b[32m━━━━━━━━━━━━━━━━━━━━\u001b[0m\u001b[37m\u001b[0m \u001b[1m101s\u001b[0m 68ms/step - accuracy: 0.9980 - loss: 0.0068 - val_accuracy: 0.9878 - val_loss: 0.0477\n",
      "Epoch 7/50\n",
      "\u001b[1m1479/1479\u001b[0m \u001b[32m━━━━━━━━━━━━━━━━━━━━\u001b[0m\u001b[37m\u001b[0m \u001b[1m101s\u001b[0m 68ms/step - accuracy: 0.9983 - loss: 0.0067 - val_accuracy: 0.9881 - val_loss: 0.0595\n",
      "Epoch 8/50\n",
      "\u001b[1m1479/1479\u001b[0m \u001b[32m━━━━━━━━━━━━━━━━━━━━\u001b[0m\u001b[37m\u001b[0m \u001b[1m101s\u001b[0m 68ms/step - accuracy: 0.9987 - loss: 0.0044 - val_accuracy: 0.9854 - val_loss: 0.0689\n",
      "Epoch 9/50\n",
      "\u001b[1m1479/1479\u001b[0m \u001b[32m━━━━━━━━━━━━━━━━━━━━\u001b[0m\u001b[37m\u001b[0m \u001b[1m101s\u001b[0m 68ms/step - accuracy: 0.9988 - loss: 0.0040 - val_accuracy: 0.9872 - val_loss: 0.0381\n",
      "Epoch 10/50\n",
      "\u001b[1m1479/1479\u001b[0m \u001b[32m━━━━━━━━━━━━━━━━━━━━\u001b[0m\u001b[37m\u001b[0m \u001b[1m100s\u001b[0m 68ms/step - accuracy: 0.9993 - loss: 0.0021 - val_accuracy: 0.9884 - val_loss: 0.0628\n",
      "Epoch 11/50\n",
      "\u001b[1m1479/1479\u001b[0m \u001b[32m━━━━━━━━━━━━━━━━━━━━\u001b[0m\u001b[37m\u001b[0m \u001b[1m102s\u001b[0m 69ms/step - accuracy: 0.9997 - loss: 0.0016 - val_accuracy: 0.9833 - val_loss: 0.0999\n",
      "Epoch 12/50\n",
      "\u001b[1m1479/1479\u001b[0m \u001b[32m━━━━━━━━━━━━━━━━━━━━\u001b[0m\u001b[37m\u001b[0m \u001b[1m101s\u001b[0m 68ms/step - accuracy: 0.9983 - loss: 0.0051 - val_accuracy: 0.9869 - val_loss: 0.0466\n",
      "Epoch 13/50\n",
      "\u001b[1m1479/1479\u001b[0m \u001b[32m━━━━━━━━━━━━━━━━━━━━\u001b[0m\u001b[37m\u001b[0m \u001b[1m101s\u001b[0m 68ms/step - accuracy: 0.9989 - loss: 0.0032 - val_accuracy: 0.9887 - val_loss: 0.0594\n",
      "Epoch 14/50\n",
      "\u001b[1m1479/1479\u001b[0m \u001b[32m━━━━━━━━━━━━━━━━━━━━\u001b[0m\u001b[37m\u001b[0m \u001b[1m101s\u001b[0m 68ms/step - accuracy: 0.9995 - loss: 0.0021 - val_accuracy: 0.9900 - val_loss: 0.0474\n",
      "Epoch 15/50\n",
      "\u001b[1m1479/1479\u001b[0m \u001b[32m━━━━━━━━━━━━━━━━━━━━\u001b[0m\u001b[37m\u001b[0m \u001b[1m101s\u001b[0m 68ms/step - accuracy: 0.9999 - loss: 7.5903e-04 - val_accuracy: 0.9930 - val_loss: 0.0409\n",
      "Epoch 16/50\n",
      "\u001b[1m1479/1479\u001b[0m \u001b[32m━━━━━━━━━━━━━━━━━━━━\u001b[0m\u001b[37m\u001b[0m \u001b[1m100s\u001b[0m 68ms/step - accuracy: 0.9998 - loss: 6.6835e-04 - val_accuracy: 0.9893 - val_loss: 0.0418\n"
     ]
    }
   ],
   "source": [
    "history = model.fit(X_train, y_train, validation_data=(X_val, y_val), batch_size=40, epochs=50,\n",
    "                    callbacks=[early_stopping])"
   ]
  },
  {
   "cell_type": "code",
   "execution_count": 16,
   "id": "2a582bb6",
   "metadata": {
    "execution": {
     "iopub.execute_input": "2025-03-09T12:11:45.833496Z",
     "iopub.status.busy": "2025-03-09T12:11:45.833187Z",
     "iopub.status.idle": "2025-03-09T12:11:46.159785Z",
     "shell.execute_reply": "2025-03-09T12:11:46.158925Z"
    },
    "papermill": {
     "duration": 1.501347,
     "end_time": "2025-03-09T12:11:46.161229",
     "exception": false,
     "start_time": "2025-03-09T12:11:44.659882",
     "status": "completed"
    },
    "tags": []
   },
   "outputs": [
    {
     "data": {
      "text/plain": [
       "Text(0.5, 1.0, 'Model Accuracy')"
      ]
     },
     "execution_count": 16,
     "metadata": {},
     "output_type": "execute_result"
    },
    {
     "data": {
      "image/png": "[encoded data removed]",
      "text/plain": [
       "<Figure size 1200x500 with 1 Axes>"
      ]
     },
     "metadata": {},
     "output_type": "display_data"
    }
   ],
   "source": [
    "plt.figure(figsize=(12,5))\n",
    "plt.plot(history.history[\"accuracy\"], label=\"Train Accuracy\")\n",
    "plt.plot(history.history[\"val_accuracy\"], label=\"Validation Accuracy\")\n",
    "plt.xlabel(\"Epochs\")\n",
    "plt.ylabel(\"Accuracy\")\n",
    "plt.legend()\n",
    "plt.title(\"Model Accuracy\")"
   ]
  },
  {
   "cell_type": "code",
   "execution_count": 17,
   "id": "724a7590",
   "metadata": {
    "execution": {
     "iopub.execute_input": "2025-03-09T12:11:48.505175Z",
     "iopub.status.busy": "2025-03-09T12:11:48.504823Z",
     "iopub.status.idle": "2025-03-09T12:11:48.706050Z",
     "shell.execute_reply": "2025-03-09T12:11:48.704900Z"
    },
    "papermill": {
     "duration": 1.3681,
     "end_time": "2025-03-09T12:11:48.707617",
     "exception": false,
     "start_time": "2025-03-09T12:11:47.339517",
     "status": "completed"
    },
    "tags": []
   },
   "outputs": [
    {
     "data": {
      "image/png": "[encoded data removed]",
      "text/plain": [
       "<Figure size 640x480 with 1 Axes>"
      ]
     },
     "metadata": {},
     "output_type": "display_data"
    }
   ],
   "source": [
    "plt.plot(history.history[\"loss\"], label=\"Train Loss\")\n",
    "plt.plot(history.history[\"val_loss\"], label=\"Validation Loss\")\n",
    "plt.xlabel(\"Epochs\")\n",
    "plt.ylabel(\"Loss\")\n",
    "plt.legend()\n",
    "plt.title(\"Model Loss\")\n",
    "plt.show()"
   ]
  },
  {
   "cell_type": "markdown",
   "id": "fc7e38f0",
   "metadata": {
    "papermill": {
     "duration": 1.155587,
     "end_time": "2025-03-09T12:11:51.064714",
     "exception": false,
     "start_time": "2025-03-09T12:11:49.909127",
     "status": "completed"
    },
    "tags": []
   },
   "source": [
    "# Model Evaluation"
   ]
  },
  {
   "cell_type": "code",
   "execution_count": 18,
   "id": "cf9a7830",
   "metadata": {
    "execution": {
     "iopub.execute_input": "2025-03-09T12:11:53.390910Z",
     "iopub.status.busy": "2025-03-09T12:11:53.390557Z",
     "iopub.status.idle": "2025-03-09T12:11:55.175049Z",
     "shell.execute_reply": "2025-03-09T12:11:55.174246Z"
    },
    "papermill": {
     "duration": 2.943425,
     "end_time": "2025-03-09T12:11:55.176312",
     "exception": false,
     "start_time": "2025-03-09T12:11:52.232887",
     "status": "completed"
    },
    "tags": []
   },
   "outputs": [
    {
     "name": "stdout",
     "output_type": "stream",
     "text": [
      "\u001b[1m103/103\u001b[0m \u001b[32m━━━━━━━━━━━━━━━━━━━━\u001b[0m\u001b[37m\u001b[0m \u001b[1m2s\u001b[0m 15ms/step\n",
      "Accuracy: 0.9914764079147641\n",
      "Precision: 0.9946107784431137\n",
      "Recall: 0.9886904761904762\n",
      "F1-Score: 0.9916417910447761\n"
     ]
    }
   ],
   "source": [
    "# Evaluate model on test set\n",
    "y_pred = (model.predict(X_test) > 0.5).astype(\"int32\")\n",
    "precision, recall, f1_score, _ = precision_recall_fscore_support(y_test, y_pred, average='binary')\n",
    "test_accuracy = accuracy_score(y_test, y_pred)\n",
    "conf_matrix = confusion_matrix(y_test, y_pred)\n",
    "print(f\"Accuracy: {test_accuracy}\\nPrecision: {precision}\\nRecall: {recall}\\nF1-Score: {f1_score}\")"
   ]
  },
  {
   "cell_type": "code",
   "execution_count": 19,
   "id": "6e6a6fdf",
   "metadata": {
    "execution": {
     "iopub.execute_input": "2025-03-09T12:11:57.512014Z",
     "iopub.status.busy": "2025-03-09T12:11:57.511663Z",
     "iopub.status.idle": "2025-03-09T12:11:57.647204Z",
     "shell.execute_reply": "2025-03-09T12:11:57.646418Z"
    },
    "papermill": {
     "duration": 1.308021,
     "end_time": "2025-03-09T12:11:57.648601",
     "exception": false,
     "start_time": "2025-03-09T12:11:56.340580",
     "status": "completed"
    },
    "tags": []
   },
   "outputs": [
    {
     "data": {
      "image/png": "[encoded data removed]",
      "text/plain": [
       "<Figure size 800x500 with 1 Axes>"
      ]
     },
     "metadata": {},
     "output_type": "display_data"
    }
   ],
   "source": [
    "# Plot Precision, Recall, and F1 Score\n",
    "plt.figure(figsize=(8,5))\n",
    "plt.bar([\"Precision\", \"Recall\", \"F1-Score\"], [precision, recall, f1_score], color=[\"blue\", \"orange\", \"green\"])\n",
    "plt.xlabel(\"Metrics\")\n",
    "plt.ylabel(\"Score\")\n",
    "plt.title(\"Precision, Recall, and F1 Score\")\n",
    "plt.ylim(0,1)\n",
    "plt.show()"
   ]
  },
  {
   "cell_type": "code",
   "execution_count": 20,
   "id": "854cf469",
   "metadata": {
    "execution": {
     "iopub.execute_input": "2025-03-09T12:12:00.078633Z",
     "iopub.status.busy": "2025-03-09T12:12:00.078301Z",
     "iopub.status.idle": "2025-03-09T12:12:00.264404Z",
     "shell.execute_reply": "2025-03-09T12:12:00.263602Z"
    },
    "papermill": {
     "duration": 1.376009,
     "end_time": "2025-03-09T12:12:00.265753",
     "exception": false,
     "start_time": "2025-03-09T12:11:58.889744",
     "status": "completed"
    },
    "tags": []
   },
   "outputs": [
    {
     "data": {
      "image/png": "[encoded data removed]",
      "text/plain": [
       "<Figure size 600x600 with 2 Axes>"
      ]
     },
     "metadata": {},
     "output_type": "display_data"
    }
   ],
   "source": [
    "# Plot Confusion Matrix\n",
    "plt.figure(figsize=(6,6))\n",
    "sns.heatmap(conf_matrix, annot=True, fmt=\"d\", cmap=\"Blues\", xticklabels=[\"Fake\", \"Real\"], yticklabels=[\"Fake\", \"Real\"])\n",
    "plt.xlabel(\"Predicted Label\")\n",
    "plt.ylabel(\"True Label\")\n",
    "plt.title(\"Confusion Matrix\")\n",
    "plt.show()"
   ]
  },
  {
   "cell_type": "markdown",
   "id": "198ecf78",
   "metadata": {
    "papermill": {
     "duration": 1.18385,
     "end_time": "2025-03-09T12:12:02.562280",
     "exception": false,
     "start_time": "2025-03-09T12:12:01.378430",
     "status": "completed"
    },
    "tags": []
   },
   "source": [
    "# Saving the Model"
   ]
  },
  {
   "cell_type": "code",
   "execution_count": null,
   "id": "00dbb445",
   "metadata": {
    "execution": {
     "iopub.execute_input": "2025-03-09T12:12:04.884845Z",
     "iopub.status.busy": "2025-03-09T12:12:04.884501Z",
     "iopub.status.idle": "2025-03-09T12:12:05.103886Z",
     "shell.execute_reply": "2025-03-09T12:12:05.102913Z"
    },
    "papermill": {
     "duration": 1.325158,
     "end_time": "2025-03-09T12:12:05.105462",
     "exception": false,
     "start_time": "2025-03-09T12:12:03.780304",
     "status": "completed"
    },
    "tags": []
   },
   "outputs": [],
   "source": [
    "with open(\"../models/tokenizer.pkl\", \"wb\") as f:\n",
    "    pickle.dump(tokenizer, f)"
   ]
  },
  {
   "cell_type": "code",
   "execution_count": null,
   "id": "a74542eb",
   "metadata": {
    "execution": {
     "iopub.execute_input": "2025-03-09T12:12:07.415976Z",
     "iopub.status.busy": "2025-03-09T12:12:07.415635Z",
     "iopub.status.idle": "2025-03-09T12:12:08.831537Z",
     "shell.execute_reply": "2025-03-09T12:12:08.830800Z"
    },
    "papermill": {
     "duration": 2.577576,
     "end_time": "2025-03-09T12:12:08.833152",
     "exception": false,
     "start_time": "2025-03-09T12:12:06.255576",
     "status": "completed"
    },
    "tags": []
   },
   "outputs": [],
   "source": [
    "model.save(\"../models/lstm_model.h5\")"
   ]
  }
 ],
 "metadata": {
  "kaggle": {
   "accelerator": "nvidiaTeslaT4",
   "dataSources": [
    {
     "datasetId": 6823352,
     "sourceId": 10966885,
     "sourceType": "datasetVersion"
    }
   ],
   "dockerImageVersionId": 30919,
   "isGpuEnabled": true,
   "isInternetEnabled": true,
   "language": "python",
   "sourceType": "notebook"
  },
  "kernelspec": {
   "display_name": "base",
   "language": "python",
   "name": "python3"
  },
  "language_info": {
   "codemirror_mode": {
    "name": "ipython",
    "version": 3
   },
   "file_extension": ".py",
   "mimetype": "text/x-python",
   "name": "python",
   "nbconvert_exporter": "python",
   "pygments_lexer": "ipython3",
   "version": "3.12.7"
  },
  "papermill": {
   "default_parameters": {},
   "duration": 1729.846652,
   "end_time": "2025-03-09T12:12:12.513064",
   "environment_variables": {},
   "exception": null,
   "input_path": "__notebook__.ipynb",
   "output_path": "__notebook__.ipynb",
   "parameters": {},
   "start_time": "2025-03-09T11:43:22.666412",
   "version": "2.6.0"
  }
 },
 "nbformat": 4,
 "nbformat_minor": 5
}
